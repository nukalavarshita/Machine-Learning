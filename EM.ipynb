{
 "cells": [
  {
   "cell_type": "code",
   "execution_count": null,
   "metadata": {},
   "outputs": [],
   "source": [
    "import pandas as pd\n",
    "from sklearn.mixture import GaussianMixture\n",
    "import matplotlib.pyplot as plt\n",
    "\n",
    "data = pd.read_csv('your_data.csv')\n",
    "\n",
    "X = data[['Feature1', 'Feature2']]\n",
    "\n",
    "n_clusters = 3\n",
    "\n",
    "gmm = GaussianMixture(n_components=n_clusters, random_state=42)\n",
    "gmm.fit(X)\n",
    "\n",
    "cluster_labels = gmm.predict(X)\n",
    "\n",
    "data['Cluster'] = cluster_labels\n",
    "\n",
    "for cluster in range(n_clusters):\n",
    "    cluster_data = data[data['Cluster'] == cluster]\n",
    "    plt.scatter(cluster_data['Feature1'], cluster_data['Feature2'], label=f'Cluster {cluster + 1}')\n",
    "\n",
    "plt.scatter(gmm.means_[:, 0], gmm.means_[:, 1], marker='X', s=200, c='black', label='Centroids')\n",
    "plt.title('EM Algorithm Clustering')\n",
    "plt.xlabel('Feature 1')\n",
    "plt.ylabel('Feature 2')\n",
    "plt.legend()\n",
    "plt.show()\n",
    "\n",
    "#!pip install pandas scikit-learn matplotlib\n",
    "\n"
   ]
  }
 ],
 "metadata": {
  "language_info": {
   "name": "python"
  }
 },
 "nbformat": 4,
 "nbformat_minor": 2
}
