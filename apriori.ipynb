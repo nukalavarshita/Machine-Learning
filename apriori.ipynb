{
 "cells": [
  {
   "cell_type": "code",
   "execution_count": 1,
   "metadata": {},
   "outputs": [
    {
     "name": "stdout",
     "output_type": "stream",
     "text": [
      "\n",
      "Frequent Itemsets:\n",
      "    support   itemsets\n",
      "0       0.6        (A)\n",
      "1       0.8        (B)\n",
      "2       0.6        (C)\n",
      "3       0.4        (D)\n",
      "4       0.4     (A, B)\n",
      "5       0.4     (A, C)\n",
      "6       0.2     (A, D)\n",
      "7       0.4     (B, C)\n",
      "8       0.4     (B, D)\n",
      "9       0.2  (A, B, C)\n",
      "10      0.2  (A, B, D)\n",
      "\n",
      "Association Rules:\n",
      "   antecedents consequents  antecedent support  consequent support  support  \\\n",
      "0          (A)         (B)                 0.6                 0.8      0.4   \n",
      "1          (B)         (A)                 0.8                 0.6      0.4   \n",
      "2          (A)         (C)                 0.6                 0.6      0.4   \n",
      "3          (C)         (A)                 0.6                 0.6      0.4   \n",
      "4          (D)         (A)                 0.4                 0.6      0.2   \n",
      "5          (B)         (C)                 0.8                 0.6      0.4   \n",
      "6          (C)         (B)                 0.6                 0.8      0.4   \n",
      "7          (B)         (D)                 0.8                 0.4      0.4   \n",
      "8          (D)         (B)                 0.4                 0.8      0.4   \n",
      "9       (A, B)         (C)                 0.4                 0.6      0.2   \n",
      "10      (A, C)         (B)                 0.4                 0.8      0.2   \n",
      "11      (B, C)         (A)                 0.4                 0.6      0.2   \n",
      "12      (A, B)         (D)                 0.4                 0.4      0.2   \n",
      "13      (A, D)         (B)                 0.2                 0.8      0.2   \n",
      "14      (B, D)         (A)                 0.4                 0.6      0.2   \n",
      "15         (D)      (A, B)                 0.4                 0.4      0.2   \n",
      "\n",
      "    confidence      lift  leverage  conviction  zhangs_metric  \n",
      "0     0.666667  0.833333     -0.08         0.6      -0.333333  \n",
      "1     0.500000  0.833333     -0.08         0.8      -0.500000  \n",
      "2     0.666667  1.111111      0.04         1.2       0.250000  \n",
      "3     0.666667  1.111111      0.04         1.2       0.250000  \n",
      "4     0.500000  0.833333     -0.04         0.8      -0.250000  \n",
      "5     0.500000  0.833333     -0.08         0.8      -0.500000  \n",
      "6     0.666667  0.833333     -0.08         0.6      -0.333333  \n",
      "7     0.500000  1.250000      0.08         1.2       1.000000  \n",
      "8     1.000000  1.250000      0.08         inf       0.333333  \n",
      "9     0.500000  0.833333     -0.04         0.8      -0.250000  \n",
      "10    0.500000  0.625000     -0.12         0.4      -0.500000  \n",
      "11    0.500000  0.833333     -0.04         0.8      -0.250000  \n",
      "12    0.500000  1.250000      0.04         1.2       0.333333  \n",
      "13    1.000000  1.250000      0.04         inf       0.250000  \n",
      "14    0.500000  0.833333     -0.04         0.8      -0.250000  \n",
      "15    0.500000  1.250000      0.04         1.2       0.333333  \n"
     ]
    },
    {
     "name": "stderr",
     "output_type": "stream",
     "text": [
      "c:\\Users\\Venkat\\AppData\\Local\\Programs\\Python\\Python311\\Lib\\site-packages\\mlxtend\\frequent_patterns\\fpcommon.py:110: DeprecationWarning: DataFrames with non-bool types result in worse computationalperformance and their support might be discontinued in the future.Please use a DataFrame with bool type\n",
      "  warnings.warn(\n"
     ]
    }
   ],
   "source": [
    "import pandas as pd\n",
    "from mlxtend.frequent_patterns import apriori\n",
    "from mlxtend.frequent_patterns import association_rules\n",
    "\n",
    "# Sample dataset\n",
    "data = {'Transaction': ['T1', 'T2', 'T3', 'T4', 'T5'],\n",
    "        'Items': ['A, B, D', 'A, C', 'B, D', 'A, B, C', 'B, C']}\n",
    "\n",
    "df = pd.DataFrame(data)\n",
    "\n",
    "# Convert the dataset into a DataFrame with one-hot encoding\n",
    "transactions = df['Items'].str.get_dummies(', ')\n",
    "\n",
    "# Apply Apriori algorithm\n",
    "min_support = 0.2  # Adjust the support threshold as needed\n",
    "frequent_itemsets = apriori(transactions, min_support=min_support, use_colnames=True)\n",
    "\n",
    "# Generate association rules\n",
    "min_confidence = 0.5  # Adjust the confidence threshold as needed\n",
    "rules = association_rules(frequent_itemsets, metric=\"confidence\", min_threshold=min_confidence)\n",
    "\n",
    "# Display frequent itemsets and association rules\n",
    "print(\"\\nFrequent Itemsets:\")\n",
    "print(frequent_itemsets)\n",
    "\n",
    "print(\"\\nAssociation Rules:\")\n",
    "print(rules)\n"
   ]
  },
  {
   "cell_type": "code",
   "execution_count": null,
   "metadata": {},
   "outputs": [],
   "source": []
  }
 ],
 "metadata": {
  "kernelspec": {
   "display_name": "Python 3",
   "language": "python",
   "name": "python3"
  },
  "language_info": {
   "codemirror_mode": {
    "name": "ipython",
    "version": 3
   },
   "file_extension": ".py",
   "mimetype": "text/x-python",
   "name": "python",
   "nbconvert_exporter": "python",
   "pygments_lexer": "ipython3",
   "version": "3.11.4"
  }
 },
 "nbformat": 4,
 "nbformat_minor": 2
}
