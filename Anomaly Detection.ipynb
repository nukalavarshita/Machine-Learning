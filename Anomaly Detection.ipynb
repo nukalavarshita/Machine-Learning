{
 "cells": [
  {
   "cell_type": "code",
   "execution_count": 1,
   "metadata": {},
   "outputs": [
    {
     "name": "stdout",
     "output_type": "stream",
     "text": [
      "Predicted Labels: [1 1 1 ... 0 0 0]\n"
     ]
    }
   ],
   "source": [
    "import numpy as np\n",
    "from sklearn.ensemble import IsolationForest\n",
    "\n",
    "np.random.seed(42)\n",
    "normal_data = np.random.normal(loc=0, scale=1, size=(1000, 1))\n",
    "anomalies = np.random.normal(loc=10, scale=1, size=(50, 1))\n",
    "\n",
    "data = np.vstack([normal_data, anomalies])\n",
    "labels = np.hstack([np.zeros(normal_data.shape[0]), np.ones(anomalies.shape[0])])\n",
    "\n",
    "isolation_forest = IsolationForest(contamination=0.05, random_state=42)\n",
    "isolation_forest.fit(data)\n",
    "\n",
    "predictions = isolation_forest.predict(data)\n",
    "\n",
    "predicted_labels = np.where(predictions == 1, 1, 0)\n",
    "\n",
    "print(\"Predicted Labels:\", predicted_labels)\n"
   ]
  },
  {
   "cell_type": "code",
   "execution_count": null,
   "metadata": {},
   "outputs": [],
   "source": []
  }
 ],
 "metadata": {
  "kernelspec": {
   "display_name": "Python 3",
   "language": "python",
   "name": "python3"
  },
  "language_info": {
   "codemirror_mode": {
    "name": "ipython",
    "version": 3
   },
   "file_extension": ".py",
   "mimetype": "text/x-python",
   "name": "python",
   "nbconvert_exporter": "python",
   "pygments_lexer": "ipython3",
   "version": "3.11.4"
  }
 },
 "nbformat": 4,
 "nbformat_minor": 2
}
