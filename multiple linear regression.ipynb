{
 "cells": [
  {
   "cell_type": "code",
   "execution_count": 2,
   "metadata": {},
   "outputs": [
    {
     "name": "stdout",
     "output_type": "stream",
     "text": [
      "Mean Squared Error: 44418546.56044651\n",
      "Coefficients: [ 9683.37735979 -2851.08593936]\n",
      "Intercept: 31917.410770626564\n",
      "Equation: Salary = 31917.410770626564 + 9683.377359786278 * YearsExperience + -2851.0859393588844 * EducationLevel\n"
     ]
    }
   ],
   "source": [
    "import pandas as pd\n",
    "import numpy as np\n",
    "from sklearn.model_selection import train_test_split\n",
    "from sklearn.linear_model import LinearRegression\n",
    "from sklearn.metrics import mean_squared_error\n",
    "\n",
    "# Load the dataset\n",
    "data = pd.read_csv(\"Salary_dataset.csv\")\n",
    "\n",
    "# Assuming 'YearsExperience' and 'EducationLevel' are input features and 'Salary' is the target variable\n",
    "X = data[['YearsExperience', 'EducationLevel']]\n",
    "y = data['Salary']\n",
    "\n",
    "# Split the data into training and testing sets\n",
    "X_train, X_test, y_train, y_test = train_test_split(X, y, test_size=0.2, random_state=42)\n",
    "\n",
    "# Create a multiple linear regression model\n",
    "model = LinearRegression()\n",
    "\n",
    "# Train the model\n",
    "model.fit(X_train, y_train)\n",
    "\n",
    "# Make predictions on the test set\n",
    "y_pred = model.predict(X_test)\n",
    "\n",
    "# Evaluate the model\n",
    "mse = mean_squared_error(y_test, y_pred)\n",
    "print(f'Mean Squared Error: {mse}')\n",
    "\n",
    "# Coefficients and Intercept\n",
    "coefficients = model.coef_\n",
    "intercept = model.intercept_\n",
    "print(f'Coefficients: {coefficients}')\n",
    "print(f'Intercept: {intercept}')\n",
    "\n",
    "# You can also print the equation of the line\n",
    "equation = f'Salary = {intercept} + {coefficients[0]} * YearsExperience + {coefficients[1]} * EducationLevel'\n",
    "print(f'Equation: {equation}')\n"
   ]
  },
  {
   "cell_type": "code",
   "execution_count": null,
   "metadata": {},
   "outputs": [],
   "source": []
  }
 ],
 "metadata": {
  "kernelspec": {
   "display_name": "Python 3",
   "language": "python",
   "name": "python3"
  },
  "language_info": {
   "codemirror_mode": {
    "name": "ipython",
    "version": 3
   },
   "file_extension": ".py",
   "mimetype": "text/x-python",
   "name": "python",
   "nbconvert_exporter": "python",
   "pygments_lexer": "ipython3",
   "version": "3.11.4"
  }
 },
 "nbformat": 4,
 "nbformat_minor": 2
}
