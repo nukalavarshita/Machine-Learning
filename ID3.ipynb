{
 "cells": [
  {
   "cell_type": "code",
   "execution_count": 1,
   "metadata": {},
   "outputs": [
    {
     "name": "stdout",
     "output_type": "stream",
     "text": [
      "{'Outlook': {'Overcast': 'Yes',\n",
      "             'Rain': {'Windy': {False: 'Yes', True: 'No'}},\n",
      "             'Sunny': {'Humidity': {'High': 'No', 'Normal': 'Yes'}}}}\n"
     ]
    }
   ],
   "source": [
    "import pandas as pd\n",
    "import numpy as np\n",
    "from math import log2\n",
    "data = {'Outlook': ['Sunny', 'Sunny', 'Overcast', 'Rain', 'Rain', 'Rain', 'Overcast', 'Sunny', 'Sunny', 'Rain', 'Sunny', 'Overcast', 'Overcast', 'Rain'],\n",
    "    'Temperature': ['Hot', 'Hot', 'Hot', 'Mild', 'Cool', 'Cool', 'Cool', 'Mild', 'Cool', 'Mild', 'Mild', 'Mild', 'Hot', 'Mild'],\n",
    "    'Humidity': ['High', 'High', 'High', 'High', 'Normal', 'Normal', 'Normal', 'High', 'Normal', 'Normal', 'Normal', 'High', 'Normal', 'High'],\n",
    "    'Windy': [False, True, False, False, False, True, True, False, False, False, True, True, False, True],\n",
    "    'PlayTennis': ['No', 'No', 'Yes', 'Yes', 'Yes', 'No', 'Yes', 'No', 'Yes', 'Yes', 'Yes', 'Yes', 'Yes', 'No']}\n",
    "df = pd.DataFrame(data)\n",
    "def entropy(target_column):\n",
    "    elements, counts = np.unique(target_column, return_counts=True)\n",
    "    entropy_val = np.sum([(-counts[i] / np.sum(counts)) * np.log2(counts[i] / np.sum(counts)) for i in range(len(elements))])\n",
    "    return entropy_val\n",
    "def information_gain(data, split_attribute_name, target_name=\"PlayTennis\"):\n",
    "    total_entropy = entropy(data[target_name])\n",
    "    values, counts = np.unique(data[split_attribute_name], return_counts=True)\n",
    "    weighted_entropy = np.sum(\n",
    "        [(counts[i] / np.sum(counts)) * entropy(data.where(data[split_attribute_name] == values[i]).dropna()[target_name]) for i in range(len(values))])\n",
    "    information_gain_val = total_entropy - weighted_entropy\n",
    "    return information_gain_val\n",
    "def id3(data, original_data, features, target_attribute_name=\"PlayTennis\", parent_node_class=None):\n",
    "    if len(np.unique(data[target_attribute_name])) <= 1:\n",
    "        return np.unique(data[target_attribute_name])[0]\n",
    "    elif len(data) == 0:\n",
    "        return np.unique(original_data[target_attribute_name])[\n",
    "            np.argmax(np.unique(original_data[target_attribute_name], return_counts=True)[1])]\n",
    "    best_feature = max(features, key=lambda x: information_gain(data, x, target_attribute_name))\n",
    "\n",
    "    tree = {best_feature: {}}\n",
    "    features = [i for i in features if i != best_feature]\n",
    "    for value in np.unique(data[best_feature]):\n",
    "        value = value\n",
    "        sub_data = data.where(data[best_feature] == value).dropna()\n",
    "        subtree = id3(sub_data, data, features, target_attribute_name, parent_node_class)\n",
    "        tree[best_feature][value] = subtree\n",
    "\n",
    "    return tree\n",
    "features = df.columns[:-1].tolist()\n",
    "tree = id3(df, df, features)\n",
    "import pprint\n",
    "pprint.pprint(tree)\n"
   ]
  },
  {
   "cell_type": "code",
   "execution_count": null,
   "metadata": {},
   "outputs": [],
   "source": []
  }
 ],
 "metadata": {
  "kernelspec": {
   "display_name": "Python 3",
   "language": "python",
   "name": "python3"
  },
  "language_info": {
   "codemirror_mode": {
    "name": "ipython",
    "version": 3
   },
   "file_extension": ".py",
   "mimetype": "text/x-python",
   "name": "python",
   "nbconvert_exporter": "python",
   "pygments_lexer": "ipython3",
   "version": "3.11.4"
  }
 },
 "nbformat": 4,
 "nbformat_minor": 2
}
